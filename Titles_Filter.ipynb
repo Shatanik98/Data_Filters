{
  "nbformat": 4,
  "nbformat_minor": 0,
  "metadata": {
    "colab": {
      "name": "Titles_Filter.ipynb",
      "provenance": []
    },
    "kernelspec": {
      "name": "python3",
      "display_name": "Python 3"
    }
  },
  "cells": [
    {
      "cell_type": "code",
      "metadata": {
        "id": "5smrh_Soar9o",
        "colab_type": "code",
        "colab": {}
      },
      "source": [
        "titles = []\n",
        "\n",
        "with open(\"Titles.txt\", \"rt\", encoding = \"utf-8\") as f:\n",
        "    lines = f.readlines()\n",
        "    for x in lines:\n",
        "        line_1 = x.strip(\"\\n\")\n",
        "        line_2 = line_1.strip(\"#\")\n",
        "        line_3 = line_2.strip()\n",
        "        titles.append(line_3)"
      ],
      "execution_count": 0,
      "outputs": []
    },
    {
      "cell_type": "code",
      "metadata": {
        "id": "_noecLIobxoV",
        "colab_type": "code",
        "colab": {}
      },
      "source": [
        "for x in titles:\n",
        "    if x == \".\":\n",
        "        titles.remove(x)"
      ],
      "execution_count": 0,
      "outputs": []
    },
    {
      "cell_type": "code",
      "metadata": {
        "id": "OIu_TEdCcwxD",
        "colab_type": "code",
        "colab": {}
      },
      "source": [
        "with open(\"Titles_New.txt\", \"wt\", encoding = \"utf-8\") as f:\n",
        "    for x in titles:\n",
        "        print(x, file = f)"
      ],
      "execution_count": 0,
      "outputs": []
    }
  ]
}