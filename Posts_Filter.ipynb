{
  "nbformat": 4,
  "nbformat_minor": 0,
  "metadata": {
    "colab": {
      "name": "Posts_Filter.ipynb",
      "provenance": []
    },
    "kernelspec": {
      "name": "python3",
      "display_name": "Python 3"
    }
  },
  "cells": [
    {
      "cell_type": "code",
      "metadata": {
        "id": "1aMzuGX7gyTL",
        "colab_type": "code",
        "colab": {}
      },
      "source": [
        "posts = []\n",
        "\n",
        "with open(\"Posts.txt\", \"rt\", encoding = \"utf-8\") as f:\n",
        "    lines = f.readlines()\n",
        "    for x in lines:\n",
        "        line_1 = x.strip(\"\\n\")\n",
        "        line_2 = line_1.strip(\"#\")\n",
        "        line_3 = line_2.strip(\"@\")\n",
        "        line_4 = line_3.strip()\n",
        "        posts.append(line_4)"
      ],
      "execution_count": 0,
      "outputs": []
    },
    {
      "cell_type": "code",
      "metadata": {
        "id": "RXOvib7qhZny",
        "colab_type": "code",
        "colab": {}
      },
      "source": [
        "for x in posts:\n",
        "    if x == \" \" or \"\":\n",
        "        posts.remove(x)"
      ],
      "execution_count": 0,
      "outputs": []
    },
    {
      "cell_type": "code",
      "metadata": {
        "id": "bx-dTzl4h5YM",
        "colab_type": "code",
        "colab": {}
      },
      "source": [
        "with open(\"Posts_New.txt\", \"wt\", encoding = \"utf-8\") as f:\n",
        "    for x in posts:\n",
        "        print(x, file = f)"
      ],
      "execution_count": 0,
      "outputs": []
    }
  ]
}